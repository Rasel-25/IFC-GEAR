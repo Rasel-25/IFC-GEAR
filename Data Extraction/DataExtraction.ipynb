{
 "cells": [
  {
   "cell_type": "markdown",
   "metadata": {},
   "source": [
    " ## **First round of written assessment for the role of “Data Analyst” for GEAR.**"
   ]
  },
  {
   "cell_type": "code",
   "execution_count": 2,
   "metadata": {},
   "outputs": [],
   "source": [
    "import numpy as np\n",
    "import pandas as pd\n",
    "\n",
    "import warnings \n",
    "warnings.filterwarnings(action='ignore')"
   ]
  },
  {
   "cell_type": "markdown",
   "metadata": {},
   "source": [
    "<font color='blue'> **Let's read data from  an excel file** <font>"
   ]
  },
  {
   "cell_type": "code",
   "execution_count": 3,
   "metadata": {},
   "outputs": [
    {
     "data": {
      "text/html": [
       "<div>\n",
       "<style scoped>\n",
       "    .dataframe tbody tr th:only-of-type {\n",
       "        vertical-align: middle;\n",
       "    }\n",
       "\n",
       "    .dataframe tbody tr th {\n",
       "        vertical-align: top;\n",
       "    }\n",
       "\n",
       "    .dataframe thead th {\n",
       "        text-align: right;\n",
       "    }\n",
       "</style>\n",
       "<table border=\"1\" class=\"dataframe\">\n",
       "  <thead>\n",
       "    <tr style=\"text-align: right;\">\n",
       "      <th></th>\n",
       "      <th>Unnamed: 0</th>\n",
       "      <th>Report Date :</th>\n",
       "      <th>Unnamed: 2</th>\n",
       "      <th>2019-01-01 00:00:00</th>\n",
       "      <th>Unnamed: 4</th>\n",
       "      <th>Unnamed: 5</th>\n",
       "      <th>Unnamed: 6</th>\n",
       "      <th>Unnamed: 7</th>\n",
       "      <th>Unnamed: 8</th>\n",
       "      <th>Unnamed: 9</th>\n",
       "      <th>...</th>\n",
       "      <th>Unnamed: 30</th>\n",
       "      <th>Unnamed: 31</th>\n",
       "      <th>Unnamed: 32</th>\n",
       "      <th>Unnamed: 33</th>\n",
       "      <th>Unnamed: 34</th>\n",
       "      <th>Unnamed: 35</th>\n",
       "      <th>Unnamed: 36</th>\n",
       "      <th>Unnamed: 37</th>\n",
       "      <th>Unnamed: 38</th>\n",
       "      <th>Unnamed: 39</th>\n",
       "    </tr>\n",
       "  </thead>\n",
       "  <tbody>\n",
       "    <tr>\n",
       "      <th>0</th>\n",
       "      <td>Tgt. By GSD SAM, &amp; L/C.</td>\n",
       "      <td>NaN</td>\n",
       "      <td>NaN</td>\n",
       "      <td>NaN</td>\n",
       "      <td>NaN</td>\n",
       "      <td>NaN</td>\n",
       "      <td>NaN</td>\n",
       "      <td>NaN</td>\n",
       "      <td>NaN</td>\n",
       "      <td>NaN</td>\n",
       "      <td>...</td>\n",
       "      <td>Avr. Work Hrs</td>\n",
       "      <td>NaN</td>\n",
       "      <td>NPT Sum for</td>\n",
       "      <td>Output sum for</td>\n",
       "      <td>NaN</td>\n",
       "      <td>NaN</td>\n",
       "      <td>NaN</td>\n",
       "      <td>NaN</td>\n",
       "      <td>NaN</td>\n",
       "      <td>NaN</td>\n",
       "    </tr>\n",
       "    <tr>\n",
       "      <th>1</th>\n",
       "      <td>Efficiency is Prodn./Target.</td>\n",
       "      <td>NaN</td>\n",
       "      <td>NaN</td>\n",
       "      <td>NaN</td>\n",
       "      <td>NaN</td>\n",
       "      <td>NaN</td>\n",
       "      <td>NaN</td>\n",
       "      <td>Output / RW target</td>\n",
       "      <td>NaN</td>\n",
       "      <td>NaN</td>\n",
       "      <td>...</td>\n",
       "      <td>Line wise smry</td>\n",
       "      <td>Line wise smry</td>\n",
       "      <td>Line wise smry</td>\n",
       "      <td>Line wise smry</td>\n",
       "      <td>Linewise</td>\n",
       "      <td>NaN</td>\n",
       "      <td>NaN</td>\n",
       "      <td>NaN</td>\n",
       "      <td>NaN</td>\n",
       "      <td>NaN</td>\n",
       "    </tr>\n",
       "    <tr>\n",
       "      <th>2</th>\n",
       "      <td>Line</td>\n",
       "      <td>Buyer</td>\n",
       "      <td>Style #</td>\n",
       "      <td>DPI No #</td>\n",
       "      <td>SMV@100%</td>\n",
       "      <td>LINE</td>\n",
       "      <td>Line</td>\n",
       "      <td>Line</td>\n",
       "      <td>Target</td>\n",
       "      <td>Target</td>\n",
       "      <td>...</td>\n",
       "      <td>Working</td>\n",
       "      <td>OT Hrs</td>\n",
       "      <td>NPT Hrs</td>\n",
       "      <td>Total Out Put</td>\n",
       "      <td>Target</td>\n",
       "      <td>Loss In Pcs</td>\n",
       "      <td>Avlbl minute</td>\n",
       "      <td>Earn minute</td>\n",
       "      <td>Plan Avlbl minutes</td>\n",
       "      <td>Plan Earn minutes</td>\n",
       "    </tr>\n",
       "    <tr>\n",
       "      <th>3</th>\n",
       "      <td>#</td>\n",
       "      <td>NaN</td>\n",
       "      <td>NaN</td>\n",
       "      <td>NaN</td>\n",
       "      <td>NaN</td>\n",
       "      <td>W I P</td>\n",
       "      <td>Output</td>\n",
       "      <td>Target</td>\n",
       "      <td>efficiency</td>\n",
       "      <td>Achive %</td>\n",
       "      <td>...</td>\n",
       "      <td>Hours</td>\n",
       "      <td>NaN</td>\n",
       "      <td>NaN</td>\n",
       "      <td>NaN</td>\n",
       "      <td>NaN</td>\n",
       "      <td>For NPT</td>\n",
       "      <td>NaN</td>\n",
       "      <td>NaN</td>\n",
       "      <td>NaN</td>\n",
       "      <td>NaN</td>\n",
       "    </tr>\n",
       "    <tr>\n",
       "      <th>4</th>\n",
       "      <td>A</td>\n",
       "      <td>NaN</td>\n",
       "      <td>NaN</td>\n",
       "      <td>NaN</td>\n",
       "      <td>NaN</td>\n",
       "      <td>NaN</td>\n",
       "      <td>NaN</td>\n",
       "      <td>NaN</td>\n",
       "      <td>NaN</td>\n",
       "      <td>NaN</td>\n",
       "      <td>...</td>\n",
       "      <td>NaN</td>\n",
       "      <td>NaN</td>\n",
       "      <td>NaN</td>\n",
       "      <td>NaN</td>\n",
       "      <td>NaN</td>\n",
       "      <td>NaN</td>\n",
       "      <td>NaN</td>\n",
       "      <td>NaN</td>\n",
       "      <td>NaN</td>\n",
       "      <td>NaN</td>\n",
       "    </tr>\n",
       "  </tbody>\n",
       "</table>\n",
       "<p>5 rows × 40 columns</p>\n",
       "</div>"
      ],
      "text/plain": [
       "                     Unnamed: 0 Report Date : Unnamed: 2 2019-01-01 00:00:00  \\\n",
       "0       Tgt. By GSD SAM, & L/C.           NaN        NaN                 NaN   \n",
       "1  Efficiency is Prodn./Target.           NaN        NaN                 NaN   \n",
       "2                          Line        Buyer     Style #            DPI No #   \n",
       "3                             #           NaN        NaN                 NaN   \n",
       "4                             A           NaN        NaN                 NaN   \n",
       "\n",
       "  Unnamed: 4 Unnamed: 5 Unnamed: 6           Unnamed: 7  Unnamed: 8  \\\n",
       "0        NaN        NaN        NaN                  NaN         NaN   \n",
       "1        NaN        NaN        NaN   Output / RW target         NaN   \n",
       "2   SMV@100%       LINE      Line                  Line     Target    \n",
       "3        NaN      W I P     Output               Target  efficiency   \n",
       "4        NaN        NaN        NaN                  NaN         NaN   \n",
       "\n",
       "  Unnamed: 9  ...     Unnamed: 30     Unnamed: 31     Unnamed: 32  \\\n",
       "0        NaN  ...   Avr. Work Hrs             NaN     NPT Sum for   \n",
       "1        NaN  ...  Line wise smry  Line wise smry  Line wise smry   \n",
       "2     Target  ...        Working           OT Hrs         NPT Hrs   \n",
       "3   Achive %  ...           Hours             NaN             NaN   \n",
       "4        NaN  ...             NaN             NaN             NaN   \n",
       "\n",
       "      Unnamed: 33 Unnamed: 34  Unnamed: 35   Unnamed: 36  Unnamed: 37  \\\n",
       "0  Output sum for         NaN          NaN           NaN          NaN   \n",
       "1  Line wise smry    Linewise          NaN           NaN          NaN   \n",
       "2   Total Out Put      Target  Loss In Pcs  Avlbl minute  Earn minute   \n",
       "3             NaN         NaN      For NPT           NaN          NaN   \n",
       "4             NaN         NaN          NaN           NaN          NaN   \n",
       "\n",
       "          Unnamed: 38        Unnamed: 39  \n",
       "0                 NaN                NaN  \n",
       "1                 NaN                NaN  \n",
       "2  Plan Avlbl minutes  Plan Earn minutes  \n",
       "3                 NaN                NaN  \n",
       "4                 NaN                NaN  \n",
       "\n",
       "[5 rows x 40 columns]"
      ]
     },
     "execution_count": 3,
     "metadata": {},
     "output_type": "execute_result"
    }
   ],
   "source": [
    "read_file = pd.read_excel (\"Data\\Efficiency Report A Shift-JANUARY-19.xls\")\n",
    "df=read_file.copy()\n",
    "df.head(5)"
   ]
  },
  {
   "cell_type": "markdown",
   "metadata": {},
   "source": [
    "<font color='blue'> **Let's count actual manpower** <font>"
   ]
  },
  {
   "cell_type": "code",
   "execution_count": 4,
   "metadata": {},
   "outputs": [
    {
     "data": {
      "text/plain": [
       "414"
      ]
     },
     "execution_count": 4,
     "metadata": {},
     "output_type": "execute_result"
    }
   ],
   "source": [
    "# According to report: 1\n",
    "df.rename(columns = {'Unnamed: 19':\"Attend Manpwr\"}, inplace = True)\n",
    "amp1=df[\"Attend Manpwr\"][5:30].dropna().sum()\n",
    "amp1"
   ]
  },
  {
   "cell_type": "code",
   "execution_count": 5,
   "metadata": {},
   "outputs": [
    {
     "data": {
      "text/plain": [
       "414"
      ]
     },
     "execution_count": 5,
     "metadata": {},
     "output_type": "execute_result"
    }
   ],
   "source": [
    "# According to report: 2\n",
    "amp2=df[\"Attend Manpwr\"][44:69].dropna().sum()\n",
    "amp2"
   ]
  },
  {
   "cell_type": "markdown",
   "metadata": {},
   "source": [
    "<font color='blue'> **Let's count number of Buyer** <font>"
   ]
  },
  {
   "cell_type": "code",
   "execution_count": 6,
   "metadata": {},
   "outputs": [
    {
     "data": {
      "text/plain": [
       "12"
      ]
     },
     "execution_count": 6,
     "metadata": {},
     "output_type": "execute_result"
    }
   ],
   "source": [
    "# According to report: 1\n",
    "df.rename(columns = {'Report Date :':\"Buyer\"}, inplace = True)\n",
    "B1=df[\"Buyer\"][5:30].dropna().count()\n",
    "B1"
   ]
  },
  {
   "cell_type": "code",
   "execution_count": 7,
   "metadata": {},
   "outputs": [
    {
     "data": {
      "text/plain": [
       "15"
      ]
     },
     "execution_count": 7,
     "metadata": {},
     "output_type": "execute_result"
    }
   ],
   "source": [
    "# According to report: 2\n",
    "B2=df[\"Buyer\"][44:69].dropna().count()\n",
    "B2"
   ]
  },
  {
   "cell_type": "markdown",
   "metadata": {},
   "source": [
    "<font color='blue'> **Let's count number of Line** <font>"
   ]
  },
  {
   "cell_type": "code",
   "execution_count": 8,
   "metadata": {},
   "outputs": [
    {
     "data": {
      "text/plain": [
       "10"
      ]
     },
     "execution_count": 8,
     "metadata": {},
     "output_type": "execute_result"
    }
   ],
   "source": [
    "# According to report: 1\n",
    "df.rename(columns = {'Unnamed: 0':\"Line\"}, inplace = True)\n",
    "line1=df[\"Line\"][4:32].dropna().count()\n",
    "line1"
   ]
  },
  {
   "cell_type": "code",
   "execution_count": 9,
   "metadata": {},
   "outputs": [
    {
     "data": {
      "text/plain": [
       "10"
      ]
     },
     "execution_count": 9,
     "metadata": {},
     "output_type": "execute_result"
    }
   ],
   "source": [
    "# According to report: 2\n",
    "line2=df[\"Line\"][43:71].dropna().count()\n",
    "line2"
   ]
  },
  {
   "cell_type": "markdown",
   "metadata": {},
   "source": [
    "<font color='blue'> **Let's count number of Style** <font>"
   ]
  },
  {
   "cell_type": "code",
   "execution_count": 10,
   "metadata": {},
   "outputs": [
    {
     "data": {
      "text/plain": [
       "12"
      ]
     },
     "execution_count": 10,
     "metadata": {},
     "output_type": "execute_result"
    }
   ],
   "source": [
    "# According to report: 1\n",
    "df.rename(columns = {'Unnamed: 2':\"Style\"}, inplace = True)\n",
    "st1=df[\"Style\"][5:30].dropna().count()\n",
    "st1"
   ]
  },
  {
   "cell_type": "code",
   "execution_count": 11,
   "metadata": {},
   "outputs": [
    {
     "data": {
      "text/plain": [
       "15"
      ]
     },
     "execution_count": 11,
     "metadata": {},
     "output_type": "execute_result"
    }
   ],
   "source": [
    "# According to report: 2\n",
    "st2=df[\"Style\"][44:69].dropna().count()\n",
    "st2"
   ]
  },
  {
   "cell_type": "markdown",
   "metadata": {},
   "source": [
    "<font color='blue'> **Let's count number of Order** <font>"
   ]
  },
  {
   "cell_type": "code",
   "execution_count": 13,
   "metadata": {},
   "outputs": [],
   "source": [
    "df1=read_file.copy()\n",
    "for i in range(0,3):\n",
    "    update_df=df1.rename(columns=df.iloc[i]).drop(df.index[i])"
   ]
  },
  {
   "cell_type": "code",
   "execution_count": 14,
   "metadata": {},
   "outputs": [
    {
     "data": {
      "text/plain": [
       "11"
      ]
     },
     "execution_count": 14,
     "metadata": {},
     "output_type": "execute_result"
    }
   ],
   "source": [
    "# According to report: 1\n",
    "update_df.rename(columns = {'DPI No #':\"DPI No\"}, inplace = True)\n",
    "order_1=update_df[\"DPI No\"][5:30].dropna().count()\n",
    "order_1"
   ]
  },
  {
   "cell_type": "code",
   "execution_count": 15,
   "metadata": {},
   "outputs": [
    {
     "data": {
      "text/plain": [
       "15"
      ]
     },
     "execution_count": 15,
     "metadata": {},
     "output_type": "execute_result"
    }
   ],
   "source": [
    "# According to report: 2\n",
    "order_2=update_df[\"DPI No\"][43:69].dropna().count()\n",
    "order_2\n"
   ]
  },
  {
   "cell_type": "markdown",
   "metadata": {},
   "source": [
    "<font color='blue'> **Let's count number of  smv** <font>"
   ]
  },
  {
   "cell_type": "code",
   "execution_count": 16,
   "metadata": {},
   "outputs": [
    {
     "data": {
      "text/plain": [
       "108.42"
      ]
     },
     "execution_count": 16,
     "metadata": {},
     "output_type": "execute_result"
    }
   ],
   "source": [
    "# According to report: 1\n",
    "df.rename(columns = {'Unnamed: 4':\"SMV\"}, inplace = True)\n",
    "smv1=df[\"SMV\"][5:30].dropna().sum()\n",
    "smv1"
   ]
  },
  {
   "cell_type": "code",
   "execution_count": 17,
   "metadata": {},
   "outputs": [
    {
     "data": {
      "text/plain": [
       "136.52"
      ]
     },
     "execution_count": 17,
     "metadata": {},
     "output_type": "execute_result"
    }
   ],
   "source": [
    "# According to report: 2\n",
    "smv2=df[\"SMV\"][44:69].dropna().sum()\n",
    "smv2"
   ]
  },
  {
   "cell_type": "markdown",
   "metadata": {},
   "source": [
    "<font color='blue'> **Let's calculate Manual Target** <font>"
   ]
  },
  {
   "cell_type": "code",
   "execution_count": 18,
   "metadata": {},
   "outputs": [
    {
     "data": {
      "text/plain": [
       "14095"
      ]
     },
     "execution_count": 18,
     "metadata": {},
     "output_type": "execute_result"
    }
   ],
   "source": [
    "# According to report: 1\n",
    "df.rename(columns = {'Unnamed: 22':\"Manual Target\"}, inplace = True)\n",
    "mt1=df[\"Manual Target\"][5:30].dropna().sum()\n",
    "mt1"
   ]
  },
  {
   "cell_type": "code",
   "execution_count": 19,
   "metadata": {},
   "outputs": [
    {
     "data": {
      "text/plain": [
       "15890"
      ]
     },
     "execution_count": 19,
     "metadata": {},
     "output_type": "execute_result"
    }
   ],
   "source": [
    "# According to report: 2\n",
    "mt2=df[\"Manual Target\"][44:69].dropna().sum()\n",
    "mt2"
   ]
  },
  {
   "cell_type": "markdown",
   "metadata": {},
   "source": [
    "<font color='blue'> **Let's calculate lost_mins** <font>"
   ]
  },
  {
   "cell_type": "code",
   "execution_count": 20,
   "metadata": {},
   "outputs": [
    {
     "data": {
      "text/plain": [
       "0"
      ]
     },
     "execution_count": 20,
     "metadata": {},
     "output_type": "execute_result"
    }
   ],
   "source": [
    "# According to report: 1\n",
    "df.rename(columns = {'Unnamed: 14':\"NPT_Hrs\"}, inplace = True)\n",
    "min1=df[\"NPT_Hrs\"][5:30].dropna().sum()\n",
    "min1\n"
   ]
  },
  {
   "cell_type": "code",
   "execution_count": 21,
   "metadata": {},
   "outputs": [
    {
     "data": {
      "text/plain": [
       "0"
      ]
     },
     "execution_count": 21,
     "metadata": {},
     "output_type": "execute_result"
    }
   ],
   "source": [
    "# According to report: 2\n",
    "min2=df[\"NPT_Hrs\"][44:69].dropna().sum()\n",
    "min2"
   ]
  },
  {
   "cell_type": "markdown",
   "metadata": {},
   "source": [
    "<font color='blue'> **Let's calculate Line Output** <font>"
   ]
  },
  {
   "cell_type": "code",
   "execution_count": 22,
   "metadata": {},
   "outputs": [
    {
     "data": {
      "text/plain": [
       "13936"
      ]
     },
     "execution_count": 22,
     "metadata": {},
     "output_type": "execute_result"
    }
   ],
   "source": [
    "# According to report: 1\n",
    "df.rename(columns = {'Unnamed: 6':\"Line Output\"}, inplace = True)\n",
    "day_out1=df[\"Line Output\"][5:30].dropna().sum()\n",
    "day_out1"
   ]
  },
  {
   "cell_type": "code",
   "execution_count": 23,
   "metadata": {},
   "outputs": [
    {
     "data": {
      "text/plain": [
       "15779"
      ]
     },
     "execution_count": 23,
     "metadata": {},
     "output_type": "execute_result"
    }
   ],
   "source": [
    "# According to report: 2\n",
    "day_out2=df[\"Line Output\"][44:69].dropna().sum()\n",
    "day_out2"
   ]
  },
  {
   "cell_type": "markdown",
   "metadata": {},
   "source": [
    "<font color='blue'> **Let's calculate Total_Atten.Hrs** <font>"
   ]
  },
  {
   "cell_type": "code",
   "execution_count": 24,
   "metadata": {},
   "outputs": [
    {
     "data": {
      "text/plain": [
       "4140"
      ]
     },
     "execution_count": 24,
     "metadata": {},
     "output_type": "execute_result"
    }
   ],
   "source": [
    "# According to report: 1\n",
    "df.rename(columns = {'Unnamed: 16':\"Total_Atten.Hrs\"}, inplace = True)\n",
    "av_min1=df[\"Total_Atten.Hrs\"][5:30].dropna().sum()\n",
    "av_min1"
   ]
  },
  {
   "cell_type": "code",
   "execution_count": 25,
   "metadata": {},
   "outputs": [
    {
     "data": {
      "text/plain": [
       "4140"
      ]
     },
     "execution_count": 25,
     "metadata": {},
     "output_type": "execute_result"
    }
   ],
   "source": [
    "# According to report: 2\n",
    "av_min2=df[\"Total_Atten.Hrs\"][44:69].dropna().sum()\n",
    "av_min2"
   ]
  },
  {
   "cell_type": "markdown",
   "metadata": {},
   "source": [
    "<font color='blue'> **Let's calculate output_mins** <font>"
   ]
  },
  {
   "cell_type": "code",
   "execution_count": 26,
   "metadata": {},
   "outputs": [
    {
     "data": {
      "text/plain": [
       "1510941.12"
      ]
     },
     "execution_count": 26,
     "metadata": {},
     "output_type": "execute_result"
    }
   ],
   "source": [
    "# According to report: 1\n",
    "out_min1=day_out1*smv1\n",
    "out_min1"
   ]
  },
  {
   "cell_type": "code",
   "execution_count": 27,
   "metadata": {},
   "outputs": [
    {
     "data": {
      "text/plain": [
       "2154149.08"
      ]
     },
     "execution_count": 27,
     "metadata": {},
     "output_type": "execute_result"
    }
   ],
   "source": [
    "# According to report: 2\n",
    "out_min2=day_out2*smv2\n",
    "out_min2"
   ]
  },
  {
   "cell_type": "markdown",
   "metadata": {},
   "source": [
    "<font color='blue'> **Let's calculate target_mins** <font>"
   ]
  },
  {
   "cell_type": "code",
   "execution_count": 28,
   "metadata": {},
   "outputs": [
    {
     "data": {
      "text/plain": [
       "1528179.9000000001"
      ]
     },
     "execution_count": 28,
     "metadata": {},
     "output_type": "execute_result"
    }
   ],
   "source": [
    "# According to report: 1\n",
    "target_mins_1=mt1*smv1\n",
    "target_mins_1"
   ]
  },
  {
   "cell_type": "code",
   "execution_count": 29,
   "metadata": {},
   "outputs": [
    {
     "data": {
      "text/plain": [
       "2169302.8000000003"
      ]
     },
     "execution_count": 29,
     "metadata": {},
     "output_type": "execute_result"
    }
   ],
   "source": [
    "# According to report: 2\n",
    "target_mins_2=mt2*smv2\n",
    "target_mins_2"
   ]
  },
  {
   "cell_type": "markdown",
   "metadata": {},
   "source": [
    "<font color='blue'> **Let's calculate hours** <font>"
   ]
  },
  {
   "cell_type": "code",
   "execution_count": 30,
   "metadata": {},
   "outputs": [
    {
     "data": {
      "text/plain": [
       "10.0"
      ]
     },
     "execution_count": 30,
     "metadata": {},
     "output_type": "execute_result"
    }
   ],
   "source": [
    "# According to report: 1\n",
    "hours_1=av_min1/amp1\n",
    "hours_1"
   ]
  },
  {
   "cell_type": "code",
   "execution_count": 31,
   "metadata": {},
   "outputs": [
    {
     "data": {
      "text/plain": [
       "10.0"
      ]
     },
     "execution_count": 31,
     "metadata": {},
     "output_type": "execute_result"
    }
   ],
   "source": [
    "# According to report: 2\n",
    "hours_2= av_min2/amp2\n",
    "hours_2"
   ]
  },
  {
   "cell_type": "markdown",
   "metadata": {},
   "source": [
    "<font color='blue'> **Let's draw extracted DataFrame** <font>"
   ]
  },
  {
   "cell_type": "code",
   "execution_count": 32,
   "metadata": {},
   "outputs": [
    {
     "data": {
      "text/html": [
       "<div>\n",
       "<style scoped>\n",
       "    .dataframe tbody tr th:only-of-type {\n",
       "        vertical-align: middle;\n",
       "    }\n",
       "\n",
       "    .dataframe tbody tr th {\n",
       "        vertical-align: top;\n",
       "    }\n",
       "\n",
       "    .dataframe thead th {\n",
       "        text-align: right;\n",
       "    }\n",
       "</style>\n",
       "<table border=\"1\" class=\"dataframe\">\n",
       "  <thead>\n",
       "    <tr style=\"text-align: right;\">\n",
       "      <th></th>\n",
       "      <th>actual_manpower_ttl</th>\n",
       "      <th>date</th>\n",
       "      <th>buyer</th>\n",
       "      <th>line</th>\n",
       "      <th>style</th>\n",
       "      <th>order_no</th>\n",
       "      <th>smv</th>\n",
       "      <th>total_target</th>\n",
       "      <th>hours</th>\n",
       "      <th>lost_mins</th>\n",
       "      <th>day_output</th>\n",
       "      <th>available_mins</th>\n",
       "      <th>output_mins</th>\n",
       "      <th>target_mins</th>\n",
       "    </tr>\n",
       "  </thead>\n",
       "  <tbody>\n",
       "    <tr>\n",
       "      <th>Report No: 1</th>\n",
       "      <td>414</td>\n",
       "      <td>1-Jan-2019</td>\n",
       "      <td>12</td>\n",
       "      <td>10</td>\n",
       "      <td>12</td>\n",
       "      <td>11</td>\n",
       "      <td>108.42</td>\n",
       "      <td>14095</td>\n",
       "      <td>10.0</td>\n",
       "      <td>0</td>\n",
       "      <td>13936</td>\n",
       "      <td>248400</td>\n",
       "      <td>1510941.12</td>\n",
       "      <td>1528179.9</td>\n",
       "    </tr>\n",
       "    <tr>\n",
       "      <th>Report No:2</th>\n",
       "      <td>414</td>\n",
       "      <td>2-Jan-2019</td>\n",
       "      <td>15</td>\n",
       "      <td>10</td>\n",
       "      <td>15</td>\n",
       "      <td>15</td>\n",
       "      <td>136.52</td>\n",
       "      <td>15890</td>\n",
       "      <td>10.0</td>\n",
       "      <td>0</td>\n",
       "      <td>15779</td>\n",
       "      <td>248400</td>\n",
       "      <td>2154149.08</td>\n",
       "      <td>2169302.8</td>\n",
       "    </tr>\n",
       "  </tbody>\n",
       "</table>\n",
       "</div>"
      ],
      "text/plain": [
       "              actual_manpower_ttl        date  buyer  line  style  order_no  \\\n",
       "Report No: 1                  414  1-Jan-2019     12    10     12        11   \n",
       "Report No:2                   414  2-Jan-2019     15    10     15        15   \n",
       "\n",
       "                 smv  total_target  hours  lost_mins  day_output  \\\n",
       "Report No: 1  108.42         14095   10.0          0       13936   \n",
       "Report No:2   136.52         15890   10.0          0       15779   \n",
       "\n",
       "              available_mins  output_mins  target_mins  \n",
       "Report No: 1          248400   1510941.12    1528179.9  \n",
       "Report No:2           248400   2154149.08    2169302.8  "
      ]
     },
     "execution_count": 32,
     "metadata": {},
     "output_type": "execute_result"
    }
   ],
   "source": [
    "Report=['Report No: 1','Report No:2']\n",
    "extracted_df = pd.DataFrame({'actual_manpower_ttl' : [amp1,amp2],\n",
    "                       'date' : ['1-Jan-2019', '2-Jan-2019' ],\n",
    "                       'buyer':[B1,B2],\n",
    "                       'line':[line1,line2],\n",
    "                       'style':[st1,st2],\n",
    "                       'order_no':[order_1,order_2],\n",
    "                       'smv':[smv1,smv2],\n",
    "                       #'running_days':[run_day1.run_day_2],\n",
    "                       #'input_date_cal':[in_date_1,in_date_2],\n",
    "                       'total_target' : [mt1,mt2],\n",
    "                       'hours':[hours_1,hours_2],\n",
    "                       'lost_mins':[min1,min2],\n",
    "                       'day_output': [day_out1,day_out2],\n",
    "                       'available_mins':[av_min1*60, av_min2*60],\n",
    "                       'output_mins': [out_min1,out_min2],\n",
    "                       'target_mins': [target_mins_1,target_mins_2],\n",
    "                       \n",
    "                     },index=Report)\n",
    "extracted_df"
   ]
  },
  {
   "cell_type": "markdown",
   "metadata": {},
   "source": [
    "<font color='blue'> **Let's compress the outcomes** <font>"
   ]
  },
  {
   "cell_type": "code",
   "execution_count": 112,
   "metadata": {},
   "outputs": [],
   "source": [
    "# Compressed the outcomes into a CSV file\n",
    "extracted_df.to_csv('extracted_file.csv', index=False)"
   ]
  }
 ],
 "metadata": {
  "kernelspec": {
   "display_name": "Python 3.10.1 64-bit",
   "language": "python",
   "name": "python3"
  },
  "language_info": {
   "codemirror_mode": {
    "name": "ipython",
    "version": 3
   },
   "file_extension": ".py",
   "mimetype": "text/x-python",
   "name": "python",
   "nbconvert_exporter": "python",
   "pygments_lexer": "ipython3",
   "version": "3.10.1"
  },
  "orig_nbformat": 4,
  "vscode": {
   "interpreter": {
    "hash": "369f2c481f4da34e4445cda3fffd2e751bd1c4d706f27375911949ba6bb62e1c"
   }
  }
 },
 "nbformat": 4,
 "nbformat_minor": 2
}
